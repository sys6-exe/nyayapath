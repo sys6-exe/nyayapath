{
  "nbformat": 4,
  "nbformat_minor": 0,
  "metadata": {
    "colab": {
      "provenance": [],
      "gpuType": "T4",
      "mount_file_id": "1l1OZNe9SAJeAA45Ld9N0xApVoPYf-lyQ",
      "authorship_tag": "ABX9TyOO8MROtfnQlpXJL6KFXqaZ",
      "include_colab_link": true
    },
    "kernelspec": {
      "name": "python3",
      "display_name": "Python 3"
    },
    "language_info": {
      "name": "python"
    },
    "accelerator": "GPU"
  },
  "cells": [
    {
      "cell_type": "markdown",
      "metadata": {
        "id": "view-in-github",
        "colab_type": "text"
      },
      "source": [
        "<a href=\"https://colab.research.google.com/github/sys6-exe/nyayapath/blob/main/tts_implementation.ipynb\" target=\"_parent\"><img src=\"https://colab.research.google.com/assets/colab-badge.svg\" alt=\"Open In Colab\"/></a>"
      ]
    },
    {
      "cell_type": "code",
      "execution_count": 2,
      "metadata": {
        "colab": {
          "base_uri": "https://localhost:8080/"
        },
        "id": "bci5ZRjfMiQO",
        "outputId": "47b27480-457b-430a-8595-35b31935a591"
      },
      "outputs": [
        {
          "output_type": "stream",
          "name": "stdout",
          "text": [
            "Collecting git+https://github.com/huggingface/parler-tts.git\n",
            "  Cloning https://github.com/huggingface/parler-tts.git to /tmp/pip-req-build-f2yyjx4f\n",
            "  Running command git clone --filter=blob:none --quiet https://github.com/huggingface/parler-tts.git /tmp/pip-req-build-f2yyjx4f\n",
            "  Resolved https://github.com/huggingface/parler-tts.git to commit d108732cd57788ec86bc857d99a6cabd66663d68\n",
            "  Installing build dependencies ... \u001b[?25l\u001b[?25hdone\n",
            "  Getting requirements to build wheel ... \u001b[?25l\u001b[?25hdone\n",
            "  Preparing metadata (pyproject.toml) ... \u001b[?25l\u001b[?25hdone\n",
            "Collecting descript-audiotools@ git+https://github.com/descriptinc/audiotools (from parler_tts==0.2.2)\n",
            "  Cloning https://github.com/descriptinc/audiotools to /tmp/pip-install-xr7add3o/descript-audiotools_4a5460fcb0484950be984d3ed6e80f58\n",
            "  Running command git clone --filter=blob:none --quiet https://github.com/descriptinc/audiotools /tmp/pip-install-xr7add3o/descript-audiotools_4a5460fcb0484950be984d3ed6e80f58\n",
            "  Resolved https://github.com/descriptinc/audiotools to commit 348ebf2034ce24e2a91a553e3171cb00c0c71678\n",
            "  Preparing metadata (setup.py) ... \u001b[?25l\u001b[?25hdone\n",
            "Requirement already satisfied: transformers<=4.46.1,>=4.46.1 in /usr/local/lib/python3.11/dist-packages (from parler_tts==0.2.2) (4.46.1)\n",
            "Requirement already satisfied: torch in /usr/local/lib/python3.11/dist-packages (from parler_tts==0.2.2) (2.5.1+cu124)\n",
            "Requirement already satisfied: sentencepiece in /usr/local/lib/python3.11/dist-packages (from parler_tts==0.2.2) (0.2.0)\n",
            "Requirement already satisfied: descript-audio-codec in /usr/local/lib/python3.11/dist-packages (from parler_tts==0.2.2) (1.0.0)\n",
            "Requirement already satisfied: protobuf>=4.0.0 in /usr/local/lib/python3.11/dist-packages (from parler_tts==0.2.2) (4.25.6)\n",
            "Requirement already satisfied: filelock in /usr/local/lib/python3.11/dist-packages (from transformers<=4.46.1,>=4.46.1->parler_tts==0.2.2) (3.17.0)\n",
            "Requirement already satisfied: huggingface-hub<1.0,>=0.23.2 in /usr/local/lib/python3.11/dist-packages (from transformers<=4.46.1,>=4.46.1->parler_tts==0.2.2) (0.28.1)\n",
            "Requirement already satisfied: numpy>=1.17 in /usr/local/lib/python3.11/dist-packages (from transformers<=4.46.1,>=4.46.1->parler_tts==0.2.2) (1.26.4)\n",
            "Requirement already satisfied: packaging>=20.0 in /usr/local/lib/python3.11/dist-packages (from transformers<=4.46.1,>=4.46.1->parler_tts==0.2.2) (24.2)\n",
            "Requirement already satisfied: pyyaml>=5.1 in /usr/local/lib/python3.11/dist-packages (from transformers<=4.46.1,>=4.46.1->parler_tts==0.2.2) (6.0.2)\n",
            "Requirement already satisfied: regex!=2019.12.17 in /usr/local/lib/python3.11/dist-packages (from transformers<=4.46.1,>=4.46.1->parler_tts==0.2.2) (2024.11.6)\n",
            "Requirement already satisfied: requests in /usr/local/lib/python3.11/dist-packages (from transformers<=4.46.1,>=4.46.1->parler_tts==0.2.2) (2.32.3)\n",
            "Requirement already satisfied: safetensors>=0.4.1 in /usr/local/lib/python3.11/dist-packages (from transformers<=4.46.1,>=4.46.1->parler_tts==0.2.2) (0.5.2)\n",
            "Requirement already satisfied: tokenizers<0.21,>=0.20 in /usr/local/lib/python3.11/dist-packages (from transformers<=4.46.1,>=4.46.1->parler_tts==0.2.2) (0.20.3)\n",
            "Requirement already satisfied: tqdm>=4.27 in /usr/local/lib/python3.11/dist-packages (from transformers<=4.46.1,>=4.46.1->parler_tts==0.2.2) (4.67.1)\n",
            "Requirement already satisfied: argbind>=0.3.7 in /usr/local/lib/python3.11/dist-packages (from descript-audio-codec->parler_tts==0.2.2) (0.3.9)\n",
            "Requirement already satisfied: einops in /usr/local/lib/python3.11/dist-packages (from descript-audio-codec->parler_tts==0.2.2) (0.8.1)\n",
            "Requirement already satisfied: torchaudio in /usr/local/lib/python3.11/dist-packages (from descript-audio-codec->parler_tts==0.2.2) (2.5.1+cu124)\n",
            "Requirement already satisfied: soundfile in /usr/local/lib/python3.11/dist-packages (from descript-audiotools@ git+https://github.com/descriptinc/audiotools->parler_tts==0.2.2) (0.13.1)\n",
            "Requirement already satisfied: pyloudnorm in /usr/local/lib/python3.11/dist-packages (from descript-audiotools@ git+https://github.com/descriptinc/audiotools->parler_tts==0.2.2) (0.1.1)\n",
            "Requirement already satisfied: importlib-resources in /usr/local/lib/python3.11/dist-packages (from descript-audiotools@ git+https://github.com/descriptinc/audiotools->parler_tts==0.2.2) (6.5.2)\n",
            "Requirement already satisfied: scipy in /usr/local/lib/python3.11/dist-packages (from descript-audiotools@ git+https://github.com/descriptinc/audiotools->parler_tts==0.2.2) (1.13.1)\n",
            "Requirement already satisfied: julius in /usr/local/lib/python3.11/dist-packages (from descript-audiotools@ git+https://github.com/descriptinc/audiotools->parler_tts==0.2.2) (0.2.7)\n",
            "Requirement already satisfied: ffmpy in /usr/local/lib/python3.11/dist-packages (from descript-audiotools@ git+https://github.com/descriptinc/audiotools->parler_tts==0.2.2) (0.5.0)\n",
            "Requirement already satisfied: ipython in /usr/local/lib/python3.11/dist-packages (from descript-audiotools@ git+https://github.com/descriptinc/audiotools->parler_tts==0.2.2) (7.34.0)\n",
            "Requirement already satisfied: rich in /usr/local/lib/python3.11/dist-packages (from descript-audiotools@ git+https://github.com/descriptinc/audiotools->parler_tts==0.2.2) (13.9.4)\n",
            "Requirement already satisfied: matplotlib in /usr/local/lib/python3.11/dist-packages (from descript-audiotools@ git+https://github.com/descriptinc/audiotools->parler_tts==0.2.2) (3.10.0)\n",
            "Requirement already satisfied: librosa in /usr/local/lib/python3.11/dist-packages (from descript-audiotools@ git+https://github.com/descriptinc/audiotools->parler_tts==0.2.2) (0.10.2.post1)\n",
            "Requirement already satisfied: pystoi in /usr/local/lib/python3.11/dist-packages (from descript-audiotools@ git+https://github.com/descriptinc/audiotools->parler_tts==0.2.2) (0.4.1)\n",
            "Requirement already satisfied: torch_stoi in /usr/local/lib/python3.11/dist-packages (from descript-audiotools@ git+https://github.com/descriptinc/audiotools->parler_tts==0.2.2) (0.2.3)\n",
            "Requirement already satisfied: flatten-dict in /usr/local/lib/python3.11/dist-packages (from descript-audiotools@ git+https://github.com/descriptinc/audiotools->parler_tts==0.2.2) (0.4.2)\n",
            "Requirement already satisfied: markdown2 in /usr/local/lib/python3.11/dist-packages (from descript-audiotools@ git+https://github.com/descriptinc/audiotools->parler_tts==0.2.2) (2.5.3)\n",
            "Requirement already satisfied: randomname in /usr/local/lib/python3.11/dist-packages (from descript-audiotools@ git+https://github.com/descriptinc/audiotools->parler_tts==0.2.2) (0.2.1)\n",
            "Requirement already satisfied: tensorboard in /usr/local/lib/python3.11/dist-packages (from descript-audiotools@ git+https://github.com/descriptinc/audiotools->parler_tts==0.2.2) (2.18.0)\n",
            "Requirement already satisfied: typing-extensions>=4.8.0 in /usr/local/lib/python3.11/dist-packages (from torch->parler_tts==0.2.2) (4.12.2)\n",
            "Requirement already satisfied: networkx in /usr/local/lib/python3.11/dist-packages (from torch->parler_tts==0.2.2) (3.4.2)\n",
            "Requirement already satisfied: jinja2 in /usr/local/lib/python3.11/dist-packages (from torch->parler_tts==0.2.2) (3.1.5)\n",
            "Requirement already satisfied: fsspec in /usr/local/lib/python3.11/dist-packages (from torch->parler_tts==0.2.2) (2024.10.0)\n",
            "Requirement already satisfied: nvidia-cuda-nvrtc-cu12==12.4.127 in /usr/local/lib/python3.11/dist-packages (from torch->parler_tts==0.2.2) (12.4.127)\n",
            "Requirement already satisfied: nvidia-cuda-runtime-cu12==12.4.127 in /usr/local/lib/python3.11/dist-packages (from torch->parler_tts==0.2.2) (12.4.127)\n",
            "Requirement already satisfied: nvidia-cuda-cupti-cu12==12.4.127 in /usr/local/lib/python3.11/dist-packages (from torch->parler_tts==0.2.2) (12.4.127)\n",
            "Requirement already satisfied: nvidia-cudnn-cu12==9.1.0.70 in /usr/local/lib/python3.11/dist-packages (from torch->parler_tts==0.2.2) (9.1.0.70)\n",
            "Requirement already satisfied: nvidia-cublas-cu12==12.4.5.8 in /usr/local/lib/python3.11/dist-packages (from torch->parler_tts==0.2.2) (12.4.5.8)\n",
            "Requirement already satisfied: nvidia-cufft-cu12==11.2.1.3 in /usr/local/lib/python3.11/dist-packages (from torch->parler_tts==0.2.2) (11.2.1.3)\n",
            "Requirement already satisfied: nvidia-curand-cu12==10.3.5.147 in /usr/local/lib/python3.11/dist-packages (from torch->parler_tts==0.2.2) (10.3.5.147)\n",
            "Requirement already satisfied: nvidia-cusolver-cu12==11.6.1.9 in /usr/local/lib/python3.11/dist-packages (from torch->parler_tts==0.2.2) (11.6.1.9)\n",
            "Requirement already satisfied: nvidia-cusparse-cu12==12.3.1.170 in /usr/local/lib/python3.11/dist-packages (from torch->parler_tts==0.2.2) (12.3.1.170)\n",
            "Requirement already satisfied: nvidia-nccl-cu12==2.21.5 in /usr/local/lib/python3.11/dist-packages (from torch->parler_tts==0.2.2) (2.21.5)\n",
            "Requirement already satisfied: nvidia-nvtx-cu12==12.4.127 in /usr/local/lib/python3.11/dist-packages (from torch->parler_tts==0.2.2) (12.4.127)\n",
            "Requirement already satisfied: nvidia-nvjitlink-cu12==12.4.127 in /usr/local/lib/python3.11/dist-packages (from torch->parler_tts==0.2.2) (12.4.127)\n",
            "Requirement already satisfied: triton==3.1.0 in /usr/local/lib/python3.11/dist-packages (from torch->parler_tts==0.2.2) (3.1.0)\n",
            "Requirement already satisfied: sympy==1.13.1 in /usr/local/lib/python3.11/dist-packages (from torch->parler_tts==0.2.2) (1.13.1)\n",
            "Requirement already satisfied: mpmath<1.4,>=1.1.0 in /usr/local/lib/python3.11/dist-packages (from sympy==1.13.1->torch->parler_tts==0.2.2) (1.3.0)\n",
            "Requirement already satisfied: docstring-parser in /usr/local/lib/python3.11/dist-packages (from argbind>=0.3.7->descript-audio-codec->parler_tts==0.2.2) (0.16)\n",
            "Requirement already satisfied: six<2.0,>=1.12 in /usr/local/lib/python3.11/dist-packages (from flatten-dict->descript-audiotools@ git+https://github.com/descriptinc/audiotools->parler_tts==0.2.2) (1.17.0)\n",
            "Requirement already satisfied: setuptools>=18.5 in /usr/local/lib/python3.11/dist-packages (from ipython->descript-audiotools@ git+https://github.com/descriptinc/audiotools->parler_tts==0.2.2) (75.1.0)\n",
            "Requirement already satisfied: jedi>=0.16 in /usr/local/lib/python3.11/dist-packages (from ipython->descript-audiotools@ git+https://github.com/descriptinc/audiotools->parler_tts==0.2.2) (0.19.2)\n",
            "Requirement already satisfied: decorator in /usr/local/lib/python3.11/dist-packages (from ipython->descript-audiotools@ git+https://github.com/descriptinc/audiotools->parler_tts==0.2.2) (4.4.2)\n",
            "Requirement already satisfied: pickleshare in /usr/local/lib/python3.11/dist-packages (from ipython->descript-audiotools@ git+https://github.com/descriptinc/audiotools->parler_tts==0.2.2) (0.7.5)\n",
            "Requirement already satisfied: traitlets>=4.2 in /usr/local/lib/python3.11/dist-packages (from ipython->descript-audiotools@ git+https://github.com/descriptinc/audiotools->parler_tts==0.2.2) (5.7.1)\n",
            "Requirement already satisfied: prompt-toolkit!=3.0.0,!=3.0.1,<3.1.0,>=2.0.0 in /usr/local/lib/python3.11/dist-packages (from ipython->descript-audiotools@ git+https://github.com/descriptinc/audiotools->parler_tts==0.2.2) (3.0.50)\n",
            "Requirement already satisfied: pygments in /usr/local/lib/python3.11/dist-packages (from ipython->descript-audiotools@ git+https://github.com/descriptinc/audiotools->parler_tts==0.2.2) (2.18.0)\n",
            "Requirement already satisfied: backcall in /usr/local/lib/python3.11/dist-packages (from ipython->descript-audiotools@ git+https://github.com/descriptinc/audiotools->parler_tts==0.2.2) (0.2.0)\n",
            "Requirement already satisfied: matplotlib-inline in /usr/local/lib/python3.11/dist-packages (from ipython->descript-audiotools@ git+https://github.com/descriptinc/audiotools->parler_tts==0.2.2) (0.1.7)\n",
            "Requirement already satisfied: pexpect>4.3 in /usr/local/lib/python3.11/dist-packages (from ipython->descript-audiotools@ git+https://github.com/descriptinc/audiotools->parler_tts==0.2.2) (4.9.0)\n",
            "Requirement already satisfied: MarkupSafe>=2.0 in /usr/local/lib/python3.11/dist-packages (from jinja2->torch->parler_tts==0.2.2) (3.0.2)\n",
            "Requirement already satisfied: audioread>=2.1.9 in /usr/local/lib/python3.11/dist-packages (from librosa->descript-audiotools@ git+https://github.com/descriptinc/audiotools->parler_tts==0.2.2) (3.0.1)\n",
            "Requirement already satisfied: scikit-learn>=0.20.0 in /usr/local/lib/python3.11/dist-packages (from librosa->descript-audiotools@ git+https://github.com/descriptinc/audiotools->parler_tts==0.2.2) (1.6.1)\n",
            "Requirement already satisfied: joblib>=0.14 in /usr/local/lib/python3.11/dist-packages (from librosa->descript-audiotools@ git+https://github.com/descriptinc/audiotools->parler_tts==0.2.2) (1.4.2)\n",
            "Requirement already satisfied: numba>=0.51.0 in /usr/local/lib/python3.11/dist-packages (from librosa->descript-audiotools@ git+https://github.com/descriptinc/audiotools->parler_tts==0.2.2) (0.61.0)\n",
            "Requirement already satisfied: pooch>=1.1 in /usr/local/lib/python3.11/dist-packages (from librosa->descript-audiotools@ git+https://github.com/descriptinc/audiotools->parler_tts==0.2.2) (1.8.2)\n",
            "Requirement already satisfied: soxr>=0.3.2 in /usr/local/lib/python3.11/dist-packages (from librosa->descript-audiotools@ git+https://github.com/descriptinc/audiotools->parler_tts==0.2.2) (0.5.0.post1)\n",
            "Requirement already satisfied: lazy-loader>=0.1 in /usr/local/lib/python3.11/dist-packages (from librosa->descript-audiotools@ git+https://github.com/descriptinc/audiotools->parler_tts==0.2.2) (0.4)\n",
            "Requirement already satisfied: msgpack>=1.0 in /usr/local/lib/python3.11/dist-packages (from librosa->descript-audiotools@ git+https://github.com/descriptinc/audiotools->parler_tts==0.2.2) (1.1.0)\n",
            "Requirement already satisfied: cffi>=1.0 in /usr/local/lib/python3.11/dist-packages (from soundfile->descript-audiotools@ git+https://github.com/descriptinc/audiotools->parler_tts==0.2.2) (1.17.1)\n",
            "Requirement already satisfied: contourpy>=1.0.1 in /usr/local/lib/python3.11/dist-packages (from matplotlib->descript-audiotools@ git+https://github.com/descriptinc/audiotools->parler_tts==0.2.2) (1.3.1)\n",
            "Requirement already satisfied: cycler>=0.10 in /usr/local/lib/python3.11/dist-packages (from matplotlib->descript-audiotools@ git+https://github.com/descriptinc/audiotools->parler_tts==0.2.2) (0.12.1)\n",
            "Requirement already satisfied: fonttools>=4.22.0 in /usr/local/lib/python3.11/dist-packages (from matplotlib->descript-audiotools@ git+https://github.com/descriptinc/audiotools->parler_tts==0.2.2) (4.56.0)\n",
            "Requirement already satisfied: kiwisolver>=1.3.1 in /usr/local/lib/python3.11/dist-packages (from matplotlib->descript-audiotools@ git+https://github.com/descriptinc/audiotools->parler_tts==0.2.2) (1.4.8)\n",
            "Requirement already satisfied: pillow>=8 in /usr/local/lib/python3.11/dist-packages (from matplotlib->descript-audiotools@ git+https://github.com/descriptinc/audiotools->parler_tts==0.2.2) (11.1.0)\n",
            "Requirement already satisfied: pyparsing>=2.3.1 in /usr/local/lib/python3.11/dist-packages (from matplotlib->descript-audiotools@ git+https://github.com/descriptinc/audiotools->parler_tts==0.2.2) (3.2.1)\n",
            "Requirement already satisfied: python-dateutil>=2.7 in /usr/local/lib/python3.11/dist-packages (from matplotlib->descript-audiotools@ git+https://github.com/descriptinc/audiotools->parler_tts==0.2.2) (2.8.2)\n",
            "Requirement already satisfied: future>=0.16.0 in /usr/local/lib/python3.11/dist-packages (from pyloudnorm->descript-audiotools@ git+https://github.com/descriptinc/audiotools->parler_tts==0.2.2) (1.0.0)\n",
            "Requirement already satisfied: fire in /usr/local/lib/python3.11/dist-packages (from randomname->descript-audiotools@ git+https://github.com/descriptinc/audiotools->parler_tts==0.2.2) (0.7.0)\n",
            "Requirement already satisfied: charset-normalizer<4,>=2 in /usr/local/lib/python3.11/dist-packages (from requests->transformers<=4.46.1,>=4.46.1->parler_tts==0.2.2) (3.4.1)\n",
            "Requirement already satisfied: idna<4,>=2.5 in /usr/local/lib/python3.11/dist-packages (from requests->transformers<=4.46.1,>=4.46.1->parler_tts==0.2.2) (3.10)\n",
            "Requirement already satisfied: urllib3<3,>=1.21.1 in /usr/local/lib/python3.11/dist-packages (from requests->transformers<=4.46.1,>=4.46.1->parler_tts==0.2.2) (2.3.0)\n",
            "Requirement already satisfied: certifi>=2017.4.17 in /usr/local/lib/python3.11/dist-packages (from requests->transformers<=4.46.1,>=4.46.1->parler_tts==0.2.2) (2025.1.31)\n",
            "Requirement already satisfied: markdown-it-py>=2.2.0 in /usr/local/lib/python3.11/dist-packages (from rich->descript-audiotools@ git+https://github.com/descriptinc/audiotools->parler_tts==0.2.2) (3.0.0)\n",
            "Requirement already satisfied: absl-py>=0.4 in /usr/local/lib/python3.11/dist-packages (from tensorboard->descript-audiotools@ git+https://github.com/descriptinc/audiotools->parler_tts==0.2.2) (1.4.0)\n",
            "Requirement already satisfied: grpcio>=1.48.2 in /usr/local/lib/python3.11/dist-packages (from tensorboard->descript-audiotools@ git+https://github.com/descriptinc/audiotools->parler_tts==0.2.2) (1.70.0)\n",
            "Requirement already satisfied: markdown>=2.6.8 in /usr/local/lib/python3.11/dist-packages (from tensorboard->descript-audiotools@ git+https://github.com/descriptinc/audiotools->parler_tts==0.2.2) (3.7)\n",
            "Requirement already satisfied: tensorboard-data-server<0.8.0,>=0.7.0 in /usr/local/lib/python3.11/dist-packages (from tensorboard->descript-audiotools@ git+https://github.com/descriptinc/audiotools->parler_tts==0.2.2) (0.7.2)\n",
            "Requirement already satisfied: werkzeug>=1.0.1 in /usr/local/lib/python3.11/dist-packages (from tensorboard->descript-audiotools@ git+https://github.com/descriptinc/audiotools->parler_tts==0.2.2) (3.1.3)\n",
            "Requirement already satisfied: pycparser in /usr/local/lib/python3.11/dist-packages (from cffi>=1.0->soundfile->descript-audiotools@ git+https://github.com/descriptinc/audiotools->parler_tts==0.2.2) (2.22)\n",
            "Requirement already satisfied: parso<0.9.0,>=0.8.4 in /usr/local/lib/python3.11/dist-packages (from jedi>=0.16->ipython->descript-audiotools@ git+https://github.com/descriptinc/audiotools->parler_tts==0.2.2) (0.8.4)\n",
            "Requirement already satisfied: mdurl~=0.1 in /usr/local/lib/python3.11/dist-packages (from markdown-it-py>=2.2.0->rich->descript-audiotools@ git+https://github.com/descriptinc/audiotools->parler_tts==0.2.2) (0.1.2)\n",
            "Requirement already satisfied: llvmlite<0.45,>=0.44.0dev0 in /usr/local/lib/python3.11/dist-packages (from numba>=0.51.0->librosa->descript-audiotools@ git+https://github.com/descriptinc/audiotools->parler_tts==0.2.2) (0.44.0)\n",
            "Requirement already satisfied: ptyprocess>=0.5 in /usr/local/lib/python3.11/dist-packages (from pexpect>4.3->ipython->descript-audiotools@ git+https://github.com/descriptinc/audiotools->parler_tts==0.2.2) (0.7.0)\n",
            "Requirement already satisfied: platformdirs>=2.5.0 in /usr/local/lib/python3.11/dist-packages (from pooch>=1.1->librosa->descript-audiotools@ git+https://github.com/descriptinc/audiotools->parler_tts==0.2.2) (4.3.6)\n",
            "Requirement already satisfied: wcwidth in /usr/local/lib/python3.11/dist-packages (from prompt-toolkit!=3.0.0,!=3.0.1,<3.1.0,>=2.0.0->ipython->descript-audiotools@ git+https://github.com/descriptinc/audiotools->parler_tts==0.2.2) (0.2.13)\n",
            "Requirement already satisfied: threadpoolctl>=3.1.0 in /usr/local/lib/python3.11/dist-packages (from scikit-learn>=0.20.0->librosa->descript-audiotools@ git+https://github.com/descriptinc/audiotools->parler_tts==0.2.2) (3.5.0)\n",
            "Requirement already satisfied: termcolor in /usr/local/lib/python3.11/dist-packages (from fire->randomname->descript-audiotools@ git+https://github.com/descriptinc/audiotools->parler_tts==0.2.2) (2.5.0)\n"
          ]
        }
      ],
      "source": [
        "!pip install git+https://github.com/huggingface/parler-tts.git"
      ]
    },
    {
      "cell_type": "markdown",
      "source": [
        "##IMPORT STATEMENTS"
      ],
      "metadata": {
        "id": "Mru6gL6xQvsk"
      }
    },
    {
      "cell_type": "code",
      "source": [
        "import torch\n",
        "from parler_tts import ParlerTTSForConditionalGeneration\n",
        "from transformers import AutoTokenizer\n",
        "import soundfile as sf"
      ],
      "metadata": {
        "colab": {
          "base_uri": "https://localhost:8080/"
        },
        "id": "RD4j3gzoQu7R",
        "outputId": "7f60c582-2e3e-4622-a651-03a58229e988"
      },
      "execution_count": 3,
      "outputs": [
        {
          "output_type": "stream",
          "name": "stderr",
          "text": [
            "WARNING:parler_tts.modeling_parler_tts:Flash attention 2 is not installed\n"
          ]
        }
      ]
    },
    {
      "cell_type": "code",
      "source": [
        "device = \"cuda:0\" if torch.cuda.is_available() else \"cpu\"\n",
        "device"
      ],
      "metadata": {
        "colab": {
          "base_uri": "https://localhost:8080/",
          "height": 35
        },
        "id": "pMMYYV4oRDKX",
        "outputId": "c07177f4-b082-4c71-8257-dd68fa48fef8"
      },
      "execution_count": 4,
      "outputs": [
        {
          "output_type": "execute_result",
          "data": {
            "text/plain": [
              "'cuda:0'"
            ],
            "application/vnd.google.colaboratory.intrinsic+json": {
              "type": "string"
            }
          },
          "metadata": {},
          "execution_count": 4
        }
      ]
    },
    {
      "cell_type": "code",
      "source": [
        "model = ParlerTTSForConditionalGeneration.from_pretrained(\"ai4bharat/indic-parler-tts\").to(device)\n",
        "tokenizer = AutoTokenizer.from_pretrained(\"ai4bharat/indic-parler-tts\")\n",
        "description_tokenizer = AutoTokenizer.from_pretrained(model.config.text_encoder._name_or_path)"
      ],
      "metadata": {
        "colab": {
          "base_uri": "https://localhost:8080/"
        },
        "id": "9wv1XdXvRJMv",
        "outputId": "e0cd458b-d4df-4a11-a3d2-849d0bb58804"
      },
      "execution_count": 5,
      "outputs": [
        {
          "output_type": "stream",
          "name": "stderr",
          "text": [
            "/usr/local/lib/python3.11/dist-packages/huggingface_hub/utils/_auth.py:94: UserWarning: \n",
            "The secret `HF_TOKEN` does not exist in your Colab secrets.\n",
            "To authenticate with the Hugging Face Hub, create a token in your settings tab (https://huggingface.co/settings/tokens), set it as secret in your Google Colab and restart your session.\n",
            "You will be able to reuse this secret in all of your notebooks.\n",
            "Please note that authentication is recommended but still optional to access public models or datasets.\n",
            "  warnings.warn(\n",
            "WARNING:parler_tts.modeling_parler_tts:Config of the text_encoder: <class 'transformers.models.t5.modeling_t5.T5EncoderModel'> is overwritten by shared text_encoder config: T5Config {\n",
            "  \"_name_or_path\": \"google/flan-t5-large\",\n",
            "  \"architectures\": [\n",
            "    \"T5ForConditionalGeneration\"\n",
            "  ],\n",
            "  \"classifier_dropout\": 0.0,\n",
            "  \"d_ff\": 2816,\n",
            "  \"d_kv\": 64,\n",
            "  \"d_model\": 1024,\n",
            "  \"decoder_start_token_id\": 0,\n",
            "  \"dense_act_fn\": \"gelu_new\",\n",
            "  \"dropout_rate\": 0.1,\n",
            "  \"eos_token_id\": 1,\n",
            "  \"feed_forward_proj\": \"gated-gelu\",\n",
            "  \"initializer_factor\": 1.0,\n",
            "  \"is_encoder_decoder\": true,\n",
            "  \"is_gated_act\": true,\n",
            "  \"layer_norm_epsilon\": 1e-06,\n",
            "  \"model_type\": \"t5\",\n",
            "  \"n_positions\": 512,\n",
            "  \"num_decoder_layers\": 24,\n",
            "  \"num_heads\": 16,\n",
            "  \"num_layers\": 24,\n",
            "  \"output_past\": true,\n",
            "  \"pad_token_id\": 0,\n",
            "  \"relative_attention_max_distance\": 128,\n",
            "  \"relative_attention_num_buckets\": 32,\n",
            "  \"tie_word_embeddings\": false,\n",
            "  \"transformers_version\": \"4.46.1\",\n",
            "  \"use_cache\": true,\n",
            "  \"vocab_size\": 32128\n",
            "}\n",
            "\n",
            "WARNING:parler_tts.modeling_parler_tts:Config of the audio_encoder: <class 'transformers.models.dac.modeling_dac.DacModel'> is overwritten by shared audio_encoder config: DacConfig {\n",
            "  \"_name_or_path\": \"ylacombe/dac_44khz\",\n",
            "  \"architectures\": [\n",
            "    \"DacModel\"\n",
            "  ],\n",
            "  \"codebook_dim\": 8,\n",
            "  \"codebook_loss_weight\": 1.0,\n",
            "  \"codebook_size\": 1024,\n",
            "  \"commitment_loss_weight\": 0.25,\n",
            "  \"decoder_hidden_size\": 1536,\n",
            "  \"downsampling_ratios\": [\n",
            "    2,\n",
            "    4,\n",
            "    8,\n",
            "    8\n",
            "  ],\n",
            "  \"encoder_hidden_size\": 64,\n",
            "  \"hidden_size\": 1024,\n",
            "  \"hop_length\": 512,\n",
            "  \"model_type\": \"dac\",\n",
            "  \"n_codebooks\": 9,\n",
            "  \"quantizer_dropout\": 0.0,\n",
            "  \"sampling_rate\": 44100,\n",
            "  \"torch_dtype\": \"float32\",\n",
            "  \"transformers_version\": \"4.46.1\",\n",
            "  \"upsampling_ratios\": [\n",
            "    8,\n",
            "    8,\n",
            "    4,\n",
            "    2\n",
            "  ]\n",
            "}\n",
            "\n",
            "WARNING:parler_tts.modeling_parler_tts:Config of the decoder: <class 'parler_tts.modeling_parler_tts.ParlerTTSForCausalLM'> is overwritten by shared decoder config: ParlerTTSDecoderConfig {\n",
            "  \"_name_or_path\": \"/fsx/yoach/tmp/artefacts/parler-tts-mini-v2-empty/decoder\",\n",
            "  \"activation_dropout\": 0.0,\n",
            "  \"activation_function\": \"gelu\",\n",
            "  \"add_cross_attention\": true,\n",
            "  \"architectures\": [\n",
            "    \"ParlerTTSForCausalLM\"\n",
            "  ],\n",
            "  \"attention_dropout\": 0.0,\n",
            "  \"bos_token_id\": 1025,\n",
            "  \"codebook_weights\": null,\n",
            "  \"cross_attention_implementation_strategy\": null,\n",
            "  \"delay_strategy\": \"delay\",\n",
            "  \"dropout\": 0.1,\n",
            "  \"eos_token_id\": 1024,\n",
            "  \"ffn_dim\": 4096,\n",
            "  \"hidden_size\": 1024,\n",
            "  \"initializer_factor\": 0.02,\n",
            "  \"is_decoder\": true,\n",
            "  \"layerdrop\": 0.0,\n",
            "  \"max_position_embeddings\": 4096,\n",
            "  \"model_type\": \"parler_tts_decoder\",\n",
            "  \"num_attention_heads\": 16,\n",
            "  \"num_codebooks\": 9,\n",
            "  \"num_cross_attention_key_value_heads\": 16,\n",
            "  \"num_hidden_layers\": 24,\n",
            "  \"num_key_value_heads\": 16,\n",
            "  \"pad_token_id\": 1024,\n",
            "  \"rope_embeddings\": false,\n",
            "  \"rope_theta\": 10000.0,\n",
            "  \"scale_embedding\": false,\n",
            "  \"tie_word_embeddings\": false,\n",
            "  \"torch_dtype\": \"float32\",\n",
            "  \"transformers_version\": \"4.46.1\",\n",
            "  \"use_cache\": true,\n",
            "  \"use_fused_lm_heads\": true,\n",
            "  \"vocab_size\": 1088\n",
            "}\n",
            "\n"
          ]
        }
      ]
    },
    {
      "cell_type": "code",
      "source": [
        "with open(\"text.txt\",\"r\") as f:\n",
        "  content = f.read()\n",
        "content"
      ],
      "metadata": {
        "colab": {
          "base_uri": "https://localhost:8080/",
          "height": 87
        },
        "id": "57C5k41IYynP",
        "outputId": "d02740b7-04b2-4e9f-8751-94a4b219cf42"
      },
      "execution_count": 6,
      "outputs": [
        {
          "output_type": "execute_result",
          "data": {
            "text/plain": [
              "'तो वहाँ पे हम लोग किसी रूम में थे और वहाँ पे ना जो प्रडियूसर्स थे वो बड़े ओपनली बोलते थे के तो यी भी नहीं बोलेंगे बट जिस अब गुमा के बोलेंगे बट बोलेंगे बोलेंगे यहाँ पर तो मिलना पडछ लोगों के साथ हुए है चीजें जो बहुत सैड है। हम तो सुनते रहते हैं बड़े बड़े अक्टरसेस के अक्टर्स, अक्टरसेस, अब्यूस तो हर तरीके का होता है, मॉडलिंग में हो, कोई भी इंडिस्ट्री में हो और बहुती साड़ बात होना नहीं चाहिए बट जहाँ पे पावर आती है वहाँ पे मरलब लोग फिसल जाते हैं\\n\\n'"
            ],
            "application/vnd.google.colaboratory.intrinsic+json": {
              "type": "string"
            }
          },
          "metadata": {},
          "execution_count": 6
        }
      ]
    },
    {
      "cell_type": "code",
      "source": [
        "prompt = \"Hey, how are you doing today?\"\n",
        "description = \"A female speaker\"\n"
      ],
      "metadata": {
        "id": "fm4mJCxgSWLI"
      },
      "execution_count": 7,
      "outputs": []
    },
    {
      "cell_type": "code",
      "source": [
        "description_input_ids = description_tokenizer(description, return_tensors=\"pt\").to(device)\n",
        "prompt_input_ids = tokenizer(content, return_tensors=\"pt\").to(device)"
      ],
      "metadata": {
        "id": "7TwT22_aSzu7"
      },
      "execution_count": 8,
      "outputs": []
    },
    {
      "cell_type": "code",
      "source": [
        "generation = model.generate(input_ids=description_input_ids.input_ids, attention_mask=description_input_ids.attention_mask, prompt_input_ids=prompt_input_ids.input_ids, prompt_attention_mask=prompt_input_ids.attention_mask)\n",
        "audio_arr = generation.cpu().numpy().squeeze()\n",
        "sf.write(\"indic_tts_out.wav\", audio_arr, model.config.sampling_rate)"
      ],
      "metadata": {
        "colab": {
          "base_uri": "https://localhost:8080/"
        },
        "id": "hENH25j-XlAI",
        "outputId": "4298332c-5ad6-4508-8c4e-5959793fde79"
      },
      "execution_count": 9,
      "outputs": [
        {
          "output_type": "stream",
          "name": "stderr",
          "text": [
            "WARNING:parler_tts.modeling_parler_tts:`prompt_attention_mask` is specified but `attention_mask` is not. A full `attention_mask` will be created. Make sure this is the intended behaviour.\n"
          ]
        }
      ]
    },
    {
      "cell_type": "code",
      "source": [],
      "metadata": {
        "colab": {
          "base_uri": "https://localhost:8080/",
          "height": 122
        },
        "id": "SXKWuUYUX3zN",
        "outputId": "c7d2140b-77a3-4592-8367-ef0a524da3e4"
      },
      "execution_count": 11,
      "outputs": [
        {
          "output_type": "execute_result",
          "data": {
            "text/plain": [
              "\"Gloves are among the most unpredictable and destructive natural disasters. Imagine a dam holding back millions of cubic meters of water. Only instead of concrete, it's made of fragile ice and loose sediment. The problem? These natural dams are unstable and weakening faster than ever. Once a lake bursts, there is no stopping the flood. Water rushes downhill at speeds of 40 km per hour. The worst part? Traditional monitoring systems cannot predict these events in real time. That's where NOVA 2.0 steps in, bringing AI-driven accuracy to climate disaster\\xa0prevention.\""
            ],
            "application/vnd.google.colaboratory.intrinsic+json": {
              "type": "string"
            }
          },
          "metadata": {},
          "execution_count": 11
        }
      ]
    }
  ]
}